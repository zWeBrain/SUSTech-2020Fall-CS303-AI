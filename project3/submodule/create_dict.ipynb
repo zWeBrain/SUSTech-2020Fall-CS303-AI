{
 "cells": [
  {
   "cell_type": "code",
   "execution_count": 1,
   "metadata": {},
   "outputs": [],
   "source": [
    "import pandas as pd"
   ]
  },
  {
   "cell_type": "code",
   "execution_count": 2,
   "metadata": {},
   "outputs": [],
   "source": [
    "df = pd.read_csv('data.csv')"
   ]
  },
  {
   "cell_type": "code",
   "execution_count": 3,
   "metadata": {},
   "outputs": [],
   "source": [
    "func = lambda x: x.split(' ')\n",
    "df.loc[:, 'sentence'] = df.loc[:, 'sentence'].apply(func)"
   ]
  },
  {
   "cell_type": "code",
   "execution_count": 7,
   "metadata": {},
   "outputs": [
    {
     "data": {
      "text/html": [
       "<div>\n",
       "<style scoped>\n",
       "    .dataframe tbody tr th:only-of-type {\n",
       "        vertical-align: middle;\n",
       "    }\n",
       "\n",
       "    .dataframe tbody tr th {\n",
       "        vertical-align: top;\n",
       "    }\n",
       "\n",
       "    .dataframe thead th {\n",
       "        text-align: right;\n",
       "    }\n",
       "</style>\n",
       "<table border=\"1\" class=\"dataframe\">\n",
       "  <thead>\n",
       "    <tr style=\"text-align: right;\">\n",
       "      <th></th>\n",
       "      <th>sentence</th>\n",
       "      <th>value</th>\n",
       "    </tr>\n",
       "  </thead>\n",
       "  <tbody>\n",
       "    <tr>\n",
       "      <th>0</th>\n",
       "      <td>[rlJO, PERC, jKBF, vzCE, guFC, RCEb, RFai, sVy...</td>\n",
       "      <td>0</td>\n",
       "    </tr>\n",
       "    <tr>\n",
       "      <th>1</th>\n",
       "      <td>[CXWx, YQuU, UKEG, VegJ, Mwlr, hDgE, rlJO, jRa...</td>\n",
       "      <td>1</td>\n",
       "    </tr>\n",
       "    <tr>\n",
       "      <th>2</th>\n",
       "      <td>[rlJO, YcPU, VDsU, sNsm, hyTc, GyJn, Kwvw, sPn...</td>\n",
       "      <td>1</td>\n",
       "    </tr>\n",
       "    <tr>\n",
       "      <th>3</th>\n",
       "      <td>[vzCE, Ktvi, ynUk, Qrkv, sork, guFC, hfrR, DNK...</td>\n",
       "      <td>1</td>\n",
       "    </tr>\n",
       "    <tr>\n",
       "      <th>4</th>\n",
       "      <td>[mdSU, jKhd, vzCE, ynUk, rlJO, pKEB, VegJ, pFZ...</td>\n",
       "      <td>1</td>\n",
       "    </tr>\n",
       "  </tbody>\n",
       "</table>\n",
       "</div>"
      ],
      "text/plain": [
       "                                            sentence  value\n",
       "0  [rlJO, PERC, jKBF, vzCE, guFC, RCEb, RFai, sVy...      0\n",
       "1  [CXWx, YQuU, UKEG, VegJ, Mwlr, hDgE, rlJO, jRa...      1\n",
       "2  [rlJO, YcPU, VDsU, sNsm, hyTc, GyJn, Kwvw, sPn...      1\n",
       "3  [vzCE, Ktvi, ynUk, Qrkv, sork, guFC, hfrR, DNK...      1\n",
       "4  [mdSU, jKhd, vzCE, ynUk, rlJO, pKEB, VegJ, pFZ...      1"
      ]
     },
     "execution_count": 7,
     "metadata": {},
     "output_type": "execute_result"
    }
   ],
   "source": [
    "df.head()"
   ]
  },
  {
   "cell_type": "code",
   "execution_count": 5,
   "metadata": {},
   "outputs": [
    {
     "name": "stdout",
     "output_type": "stream",
     "text": [
      "Defaulting to user installation because normal site-packages is not writeable\n",
      "Requirement already satisfied: gensim in /home/hack01/.local/lib/python3.6/site-packages (3.8.3)\n",
      "Requirement already satisfied: numpy>=1.11.3 in /usr/local/lib/python3.6/dist-packages (from gensim) (1.18.5)\n",
      "Requirement already satisfied: scipy>=0.18.1 in /home/hack01/.local/lib/python3.6/site-packages (from gensim) (1.5.4)\n",
      "Requirement already satisfied: six>=1.5.0 in /home/hack01/.local/lib/python3.6/site-packages (from gensim) (1.15.0)\n",
      "Requirement already satisfied: smart-open>=1.8.1 in /home/hack01/.local/lib/python3.6/site-packages (from gensim) (4.0.1)\n",
      "Requirement already satisfied: numpy>=1.11.3 in /usr/local/lib/python3.6/dist-packages (from gensim) (1.18.5)\n"
     ]
    }
   ],
   "source": [
    "!pip install gensim"
   ]
  },
  {
   "cell_type": "code",
   "execution_count": 11,
   "metadata": {},
   "outputs": [],
   "source": [
    "from gensim.models import FastText\n",
    "model = FastText(df[\"sentence\"], \n",
    "                 size=100,\n",
    "                 window=5, \n",
    "                 min_count=3,\n",
    "                 iter=500, \n",
    "                 min_n=4,\n",
    "                 max_n=4,\n",
    "                 word_ngrams=1)"
   ]
  },
  {
   "cell_type": "code",
   "execution_count": 9,
   "metadata": {},
   "outputs": [
    {
     "name": "stderr",
     "output_type": "stream",
     "text": [
      "/usr/local/lib/python3.6/dist-packages/ipykernel_launcher.py:1: DeprecationWarning: Call to deprecated `most_similar` (Method will be removed in 4.0.0, use self.wv.most_similar() instead).\n",
      "  \"\"\"Entry point for launching an IPython kernel.\n"
     ]
    },
    {
     "data": {
      "text/plain": [
       "[('sDrG', 0.7128568887710571),\n",
       " ('EqUH', 0.6300423741340637),\n",
       " ('cHCx', 0.6274707913398743),\n",
       " ('lyhi', 0.5853639841079712),\n",
       " ('OqhH', 0.5711638927459717),\n",
       " ('UxQE', 0.5681692361831665),\n",
       " ('YQuU', 0.5512127876281738),\n",
       " ('RqDo', 0.5300821661949158),\n",
       " ('vzCE', 0.4889459013938904),\n",
       " ('mhCB', 0.4618041515350342)]"
      ]
     },
     "execution_count": 9,
     "metadata": {},
     "output_type": "execute_result"
    }
   ],
   "source": [
    "model.most_similar(\"rlJO\")\n"
   ]
  },
  {
   "cell_type": "code",
   "execution_count": 12,
   "metadata": {
    "pycharm": {
     "name": "#%%\n"
    }
   },
   "outputs": [],
   "source": [
    "model.save(\"fasttext2.txt\")\n"
   ]
  }
 ],
 "metadata": {
  "kernelspec": {
   "display_name": "Python 3",
   "language": "python",
   "name": "python3"
  },
  "language_info": {
   "codemirror_mode": {
    "name": "ipython",
    "version": 3
   },
   "file_extension": ".py",
   "mimetype": "text/x-python",
   "name": "python",
   "nbconvert_exporter": "python",
   "pygments_lexer": "ipython3",
   "version": "3.8.5"
  }
 },
 "nbformat": 4,
 "nbformat_minor": 4
}